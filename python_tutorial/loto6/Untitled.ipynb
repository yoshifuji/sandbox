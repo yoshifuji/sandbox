{
 "cells": [
  {
   "cell_type": "code",
   "execution_count": 2,
   "metadata": {},
   "outputs": [
    {
     "data": {
      "text/html": [
       "<div>\n",
       "<style scoped>\n",
       "    .dataframe tbody tr th:only-of-type {\n",
       "        vertical-align: middle;\n",
       "    }\n",
       "\n",
       "    .dataframe tbody tr th {\n",
       "        vertical-align: top;\n",
       "    }\n",
       "\n",
       "    .dataframe thead th {\n",
       "        text-align: right;\n",
       "    }\n",
       "</style>\n",
       "<table border=\"1\" class=\"dataframe\">\n",
       "  <thead>\n",
       "    <tr style=\"text-align: right;\">\n",
       "      <th></th>\n",
       "      <th>frequency</th>\n",
       "    </tr>\n",
       "    <tr>\n",
       "      <th>value</th>\n",
       "      <th></th>\n",
       "    </tr>\n",
       "  </thead>\n",
       "  <tbody>\n",
       "    <tr>\n",
       "      <th>0</th>\n",
       "      <td>265</td>\n",
       "    </tr>\n",
       "    <tr>\n",
       "      <th>1</th>\n",
       "      <td>345</td>\n",
       "    </tr>\n",
       "    <tr>\n",
       "      <th>2</th>\n",
       "      <td>306</td>\n",
       "    </tr>\n",
       "    <tr>\n",
       "      <th>3</th>\n",
       "      <td>217</td>\n",
       "    </tr>\n",
       "    <tr>\n",
       "      <th>4</th>\n",
       "      <td>180</td>\n",
       "    </tr>\n",
       "  </tbody>\n",
       "</table>\n",
       "</div>"
      ],
      "text/plain": [
       "       frequency\n",
       "value           \n",
       "0            265\n",
       "1            345\n",
       "2            306\n",
       "3            217\n",
       "4            180"
      ]
     },
     "execution_count": 2,
     "metadata": {},
     "output_type": "execute_result"
    }
   ],
   "source": [
    "# -*- coding: utf-8 -*-\n",
    "import pandas as pd\n",
    " \n",
    "if __name__ == \"__main__\": \n",
    "    df = pd.read_csv(\"loto6-20180329.csv\", encoding=\"cp932\",  index_col=0, parse_dates=[1]) \n",
    "    \n",
    "#df\n",
    "type(df.style)\n",
    "#df.style.background_gradient(cmap='winter')\n",
    "\n",
    "#df.plot(subplots=True, layout=(5,4), figsize=(20, 15))\n",
    "\n",
    "#抽選番号に係るデータだけを使う\n",
    "df = df.iloc[:, 3:10]\n",
    "#データ確認\n",
    "#df.head()\n",
    "\n",
    "#まずはpandasのmeltを用いて数値を1列の項目に変換\n",
    "df = pd.melt(df)\n",
    "\n",
    "df = pd.pivot_table(df, index='value', aggfunc='count')\n",
    "df.columns = ['frequency']\n",
    "\n",
    "#データ確認\n",
    "df.head()\n",
    "\n",
    "#df.plot.bar(figsize=(8, 6))\n",
    "#df.sort_values('frequency', ascending=False).plot.bar(ylim=[150, 350], figsize=(8, 6))\n"
   ]
  },
  {
   "cell_type": "code",
   "execution_count": null,
   "metadata": {},
   "outputs": [],
   "source": []
  }
 ],
 "metadata": {
  "kernelspec": {
   "display_name": "Python 3",
   "language": "python",
   "name": "python3"
  },
  "language_info": {
   "codemirror_mode": {
    "name": "ipython",
    "version": 3
   },
   "file_extension": ".py",
   "mimetype": "text/x-python",
   "name": "python",
   "nbconvert_exporter": "python",
   "pygments_lexer": "ipython3",
   "version": "3.5.1"
  }
 },
 "nbformat": 4,
 "nbformat_minor": 2
}
